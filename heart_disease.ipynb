{
 "cells": [
  {
   "cell_type": "markdown",
   "id": "a6bd9230-1804-4144-a621-d9c2e4c50029",
   "metadata": {},
   "source": [
    "# Project\n",
    "\n",
    "The project aims to build a machine learning model using various Python-based machine learning libraries to predict whether or not someone has heart disease based on their medical attributes."
   ]
  },
  {
   "cell_type": "markdown",
   "id": "e9c6f921-60f8-40e3-828c-12d5daf42c12",
   "metadata": {
    "jp-MarkdownHeadingCollapsed": true
   },
   "source": [
    "## Problem Definition\n",
    "\n",
    "We are dealing with a Binary classification problem. To classify whether someone has a heart disease based on given clinical parameters."
   ]
  },
  {
   "cell_type": "markdown",
   "id": "88501cdb-9992-47eb-a640-49e1fd18f568",
   "metadata": {
    "jp-MarkdownHeadingCollapsed": true
   },
   "source": [
    "## About Data\n",
    "\n",
    "This is a multivariate type of dataset which means providing or involving a variety of separate mathematical or statistical variables, multivariate numerical data analysis. This database includes 76 attributes, but all published studies relate to using a subset of 14 of them. The Cleveland database is the only one used by ML researchers to date. One of the major tasks on this dataset is to predict based on the given attributes of a patient whether that particular person has heart disease or not and the other is the experimental task to diagnose and find out various insights from this dataset which could help in understanding the problem more."
   ]
  },
  {
   "cell_type": "markdown",
   "id": "d9679b6c-3387-4e73-81c2-f6693a7fb4a4",
   "metadata": {},
   "source": [
    "- **age:** It is the age of the patient in the years unit; Integer\n",
    "- **sex:** Patient is either male or female; categorical field\n",
    "- **cp:** level of chest pain; categorical \n",
    "    - 0: Typical Angina: chest pain related to decreased blood supply to the heart.\n",
    "    - 1: Atypical Angina: chest pain not related to the heart.\n",
    "    - 2: Non-anginal pain: typically esophageal spasms (non-heart related)\n",
    "    - 3: Asymptomatic: chest pain not showing signs of disease.\n",
    "- **trestbps:** resting blood pressure (on admission to the hospital), which is measured in 'mm Hg'; Integer\n",
    "- **chol:** serum cholesterol level in 'mg/dl', above 200 can causes a concern; Integer\n",
    "- **fbs:** fasting blood sugar > 120 mg/dl; Categorical field -- values [1- Ture, 0-false]\n",
    "- **restecg:** resting electrocardiographic results)\n",
    "    - 0: normal\n",
    "    - 1: stt abnormality\n",
    "    - 2: lv hypertrophy, showing probable or definite left ventricular hypertrophy by Esste's criteria.\n",
    "- **thalach:** maximum heart rate achieved; Integer\n",
    "- **exang:** exercise-induced angina; Categorical --values [1- yes, 2- no]\n",
    "- **oldpeak:** ST depression induced by exercise relative to rest; Integer\n",
    "- **slope:** the slope of the peak exercise ST segment; categorical -- values [flat, downsloping, upsloping]\n",
    "- **ca:** number of major vessels (0-3) coloured by fluoroscopy; Integer\n",
    "- **thal:** [normal; fixed defect; reversible defect]\n",
    "- **target:** has a heart disease or not; categorical\n"
   ]
  },
  {
   "cell_type": "markdown",
   "id": "75218d53-34e4-4628-a1cc-73e0b4e424c4",
   "metadata": {},
   "source": [
    "## Evalution Metric\n",
    "\n",
    "Initially, the target of the model is to achieve 95% accuracy, which might vary based on the performance of models and other metrics such as AUC-ROC, confusion matrix and classification report.  "
   ]
  },
  {
   "cell_type": "markdown",
   "id": "21815e84-e891-447b-a95f-9139d0fb7e77",
   "metadata": {},
   "source": [
    "## Imports - tools needed for the project"
   ]
  },
  {
   "cell_type": "code",
   "execution_count": 14,
   "id": "c08ffd02-0ee5-4695-aa38-b7e772c83e1f",
   "metadata": {},
   "outputs": [],
   "source": [
    "import pandas as pd\n",
    "import numpy as np\n",
    "\n",
    "import matplotlib.pyplot as plt\n",
    "import seaborn as sns\n",
    "\n"
   ]
  },
  {
   "cell_type": "markdown",
   "id": "1abb9210-7231-40b6-8bc4-3c52fc64030d",
   "metadata": {
    "jp-MarkdownHeadingCollapsed": true
   },
   "source": [
    "## Data Exploration"
   ]
  },
  {
   "cell_type": "code",
   "execution_count": 16,
   "id": "9213a83b-d6a3-44a5-b4f1-fb8907900443",
   "metadata": {},
   "outputs": [
    {
     "data": {
      "text/html": [
       "<div>\n",
       "<style scoped>\n",
       "    .dataframe tbody tr th:only-of-type {\n",
       "        vertical-align: middle;\n",
       "    }\n",
       "\n",
       "    .dataframe tbody tr th {\n",
       "        vertical-align: top;\n",
       "    }\n",
       "\n",
       "    .dataframe thead th {\n",
       "        text-align: right;\n",
       "    }\n",
       "</style>\n",
       "<table border=\"1\" class=\"dataframe\">\n",
       "  <thead>\n",
       "    <tr style=\"text-align: right;\">\n",
       "      <th></th>\n",
       "      <th>age</th>\n",
       "      <th>sex</th>\n",
       "      <th>cp</th>\n",
       "      <th>trestbps</th>\n",
       "      <th>chol</th>\n",
       "      <th>fbs</th>\n",
       "      <th>restecg</th>\n",
       "      <th>thalach</th>\n",
       "      <th>exang</th>\n",
       "      <th>oldpeak</th>\n",
       "      <th>slope</th>\n",
       "      <th>ca</th>\n",
       "      <th>thal</th>\n",
       "      <th>target</th>\n",
       "    </tr>\n",
       "  </thead>\n",
       "  <tbody>\n",
       "    <tr>\n",
       "      <th>0</th>\n",
       "      <td>63</td>\n",
       "      <td>1</td>\n",
       "      <td>3</td>\n",
       "      <td>145</td>\n",
       "      <td>233</td>\n",
       "      <td>1</td>\n",
       "      <td>0</td>\n",
       "      <td>150</td>\n",
       "      <td>0</td>\n",
       "      <td>2.3</td>\n",
       "      <td>0</td>\n",
       "      <td>0</td>\n",
       "      <td>1</td>\n",
       "      <td>1</td>\n",
       "    </tr>\n",
       "    <tr>\n",
       "      <th>1</th>\n",
       "      <td>37</td>\n",
       "      <td>1</td>\n",
       "      <td>2</td>\n",
       "      <td>130</td>\n",
       "      <td>250</td>\n",
       "      <td>0</td>\n",
       "      <td>1</td>\n",
       "      <td>187</td>\n",
       "      <td>0</td>\n",
       "      <td>3.5</td>\n",
       "      <td>0</td>\n",
       "      <td>0</td>\n",
       "      <td>2</td>\n",
       "      <td>1</td>\n",
       "    </tr>\n",
       "    <tr>\n",
       "      <th>2</th>\n",
       "      <td>41</td>\n",
       "      <td>0</td>\n",
       "      <td>1</td>\n",
       "      <td>130</td>\n",
       "      <td>204</td>\n",
       "      <td>0</td>\n",
       "      <td>0</td>\n",
       "      <td>172</td>\n",
       "      <td>0</td>\n",
       "      <td>1.4</td>\n",
       "      <td>2</td>\n",
       "      <td>0</td>\n",
       "      <td>2</td>\n",
       "      <td>1</td>\n",
       "    </tr>\n",
       "    <tr>\n",
       "      <th>3</th>\n",
       "      <td>56</td>\n",
       "      <td>1</td>\n",
       "      <td>1</td>\n",
       "      <td>120</td>\n",
       "      <td>236</td>\n",
       "      <td>0</td>\n",
       "      <td>1</td>\n",
       "      <td>178</td>\n",
       "      <td>0</td>\n",
       "      <td>0.8</td>\n",
       "      <td>2</td>\n",
       "      <td>0</td>\n",
       "      <td>2</td>\n",
       "      <td>1</td>\n",
       "    </tr>\n",
       "    <tr>\n",
       "      <th>4</th>\n",
       "      <td>57</td>\n",
       "      <td>0</td>\n",
       "      <td>0</td>\n",
       "      <td>120</td>\n",
       "      <td>354</td>\n",
       "      <td>0</td>\n",
       "      <td>1</td>\n",
       "      <td>163</td>\n",
       "      <td>1</td>\n",
       "      <td>0.6</td>\n",
       "      <td>2</td>\n",
       "      <td>0</td>\n",
       "      <td>2</td>\n",
       "      <td>1</td>\n",
       "    </tr>\n",
       "  </tbody>\n",
       "</table>\n",
       "</div>"
      ],
      "text/plain": [
       "   age  sex  cp  trestbps  chol  fbs  restecg  thalach  exang  oldpeak  slope  \\\n",
       "0   63    1   3       145   233    1        0      150      0      2.3      0   \n",
       "1   37    1   2       130   250    0        1      187      0      3.5      0   \n",
       "2   41    0   1       130   204    0        0      172      0      1.4      2   \n",
       "3   56    1   1       120   236    0        1      178      0      0.8      2   \n",
       "4   57    0   0       120   354    0        1      163      1      0.6      2   \n",
       "\n",
       "   ca  thal  target  \n",
       "0   0     1       1  \n",
       "1   0     2       1  \n",
       "2   0     2       1  \n",
       "3   0     2       1  \n",
       "4   0     2       1  "
      ]
     },
     "execution_count": 16,
     "metadata": {},
     "output_type": "execute_result"
    }
   ],
   "source": [
    "data = pd.read_csv(\"./heart-disease.csv\")\n",
    "data.head()"
   ]
  },
  {
   "cell_type": "code",
   "execution_count": null,
   "id": "38d81239-68d9-401b-830d-bbe9b67c0443",
   "metadata": {},
   "outputs": [],
   "source": []
  }
 ],
 "metadata": {
  "kernelspec": {
   "display_name": "Python 3 (ipykernel)",
   "language": "python",
   "name": "python3"
  },
  "language_info": {
   "codemirror_mode": {
    "name": "ipython",
    "version": 3
   },
   "file_extension": ".py",
   "mimetype": "text/x-python",
   "name": "python",
   "nbconvert_exporter": "python",
   "pygments_lexer": "ipython3",
   "version": "3.12.7"
  }
 },
 "nbformat": 4,
 "nbformat_minor": 5
}

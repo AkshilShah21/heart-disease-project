{
 "cells": [
  {
   "cell_type": "markdown",
   "id": "a6bd9230-1804-4144-a621-d9c2e4c50029",
   "metadata": {},
   "source": [
    "# Project\n",
    "\n",
    "The project aims to build a machine learning model using various Python-based machine learning libraries to predict whether or not someone has heart disease based on their medical attributes."
   ]
  },
  {
   "cell_type": "markdown",
   "id": "e9c6f921-60f8-40e3-828c-12d5daf42c12",
   "metadata": {
    "jp-MarkdownHeadingCollapsed": true
   },
   "source": [
    "## Problem Definition\n",
    "\n",
    "We are dealing with a Binary classification problem. To classify whether someone has a heart disease based on given clinical parameters."
   ]
  },
  {
   "cell_type": "markdown",
   "id": "88501cdb-9992-47eb-a640-49e1fd18f568",
   "metadata": {},
   "source": [
    "## About Data\n",
    "\n",
    "This is a multivariate type of dataset which means providing or involving a variety of separate mathematical or statistical variables, multivariate numerical data analysis. This database includes 76 attributes, but all published studies relate to using a subset of 14 of them. The Cleveland database is the only one used by ML researchers to date. One of the major tasks on this dataset is to predict based on the given attributes of a patient whether that particular person has heart disease or not and the other is the experimental task to diagnose and find out various insights from this dataset which could help in understanding the problem more."
   ]
  },
  {
   "cell_type": "markdown",
   "id": "d9679b6c-3387-4e73-81c2-f6693a7fb4a4",
   "metadata": {},
   "source": [
    "- **age:** It is the age of the patient in the years unit; Integer\n",
    "- **sex:** Patient is either male or female; categorical field\n",
    "- **cp:** level of chest pain; categorical \n",
    "    - 0: Typical Angina: chest pain related to decreased blood supply to the heart.\n",
    "    - 1: Atypical Angina: chest pain not related to the heart.\n",
    "    - 2: Non-anginal pain: typically esophageal spasms (non-heart related)\n",
    "    - 3: Asymptomatic: chest pain not showing signs of disease.\n",
    "- **trestbps:** resting blood pressure (on admission to the hospital), which is measured in 'mm Hg'; Integer\n",
    "    - anything above 130-140 is typically cause for concern\n",
    "- **chol:** serum cholesterol level in 'mg/dl', above 200 can causes a concern; Integer\n",
    "- **fbs:** fasting blood sugar > 120 mg/dl; Categorical field -- values [1- Ture, 0-false]\n",
    "- **restecg:** resting electrocardiographic results\n",
    "    - Value 0: Normal\n",
    "    - Value 1: having ST-T wave abnormality (T wave inversions and/or ST elevation or depression of >0.05 mV)\n",
    "    - Value 2: showing probable or definite left ventricular hypertrophy by Estes’ criteria\n",
    "- **thalach:** maximum heart rate achieved; Integer\n",
    "- **exang:** exercise-induced angina; Categorical --values [1- yes, 0- no]\n",
    "- **oldpeak:** ST depression induced by exercise relative to rest; Integer\n",
    "  - a phenomenon where a person's electrocardiogram (ECG) shows a downward deflection of the ST segment during exercise, which is not present when they are at rest, indicating potential coronary artery disease (CAD) as the heart muscle may not be receiving enough blood flow during increased demand due to exercise.\n",
    "- **slope:** the slope of the peak exercise ST segment; categorical -- values [flat, downsloping, upsloping]\n",
    "  - 0: Upsloping: better heart rate with excercise (uncommon)\n",
    "  - 1: Flatsloping: minimal change (typical healthy heart)\n",
    "  - 2: Downslopins: signs of unhealthy heart\n",
    "- **ca:** number of major vessels (0-3) coloured by fluoroscopy; Integer\n",
    "- **thal:** thalium stress result\n",
    "    - Value 0 = normal;\n",
    "    - Value 1 = fixed defect;\n",
    "    - Value 2 = reversible defect\n",
    "- **target:** has a heart disease or not; categorical\n"
   ]
  },
  {
   "cell_type": "markdown",
   "id": "75218d53-34e4-4628-a1cc-73e0b4e424c4",
   "metadata": {},
   "source": [
    "## Evalution Metric\n",
    "\n",
    "Initially, the target of the model is to achieve 95% accuracy, which might vary based on the performance of models and other metrics such as AUC-ROC, confusion matrix and classification report.  "
   ]
  },
  {
   "cell_type": "markdown",
   "id": "21815e84-e891-447b-a95f-9139d0fb7e77",
   "metadata": {},
   "source": [
    "## Imports - tools needed for the project"
   ]
  },
  {
   "cell_type": "code",
   "execution_count": 1,
   "id": "c08ffd02-0ee5-4695-aa38-b7e772c83e1f",
   "metadata": {},
   "outputs": [],
   "source": [
    "%matplotlib inline\n",
    "\n",
    "import pandas as pd\n",
    "import numpy as np\n",
    "\n",
    "import matplotlib.pyplot as plt\n",
    "import seaborn as sns"
   ]
  },
  {
   "cell_type": "markdown",
   "id": "1abb9210-7231-40b6-8bc4-3c52fc64030d",
   "metadata": {},
   "source": [
    "## Data Exploration"
   ]
  },
  {
   "cell_type": "code",
   "execution_count": 2,
   "id": "9213a83b-d6a3-44a5-b4f1-fb8907900443",
   "metadata": {},
   "outputs": [
    {
     "data": {
      "text/html": [
       "<div>\n",
       "<style scoped>\n",
       "    .dataframe tbody tr th:only-of-type {\n",
       "        vertical-align: middle;\n",
       "    }\n",
       "\n",
       "    .dataframe tbody tr th {\n",
       "        vertical-align: top;\n",
       "    }\n",
       "\n",
       "    .dataframe thead th {\n",
       "        text-align: right;\n",
       "    }\n",
       "</style>\n",
       "<table border=\"1\" class=\"dataframe\">\n",
       "  <thead>\n",
       "    <tr style=\"text-align: right;\">\n",
       "      <th></th>\n",
       "      <th>age</th>\n",
       "      <th>sex</th>\n",
       "      <th>cp</th>\n",
       "      <th>trestbps</th>\n",
       "      <th>chol</th>\n",
       "      <th>fbs</th>\n",
       "      <th>restecg</th>\n",
       "      <th>thalach</th>\n",
       "      <th>exang</th>\n",
       "      <th>oldpeak</th>\n",
       "      <th>slope</th>\n",
       "      <th>ca</th>\n",
       "      <th>thal</th>\n",
       "      <th>target</th>\n",
       "    </tr>\n",
       "  </thead>\n",
       "  <tbody>\n",
       "    <tr>\n",
       "      <th>0</th>\n",
       "      <td>63</td>\n",
       "      <td>1</td>\n",
       "      <td>3</td>\n",
       "      <td>145</td>\n",
       "      <td>233</td>\n",
       "      <td>1</td>\n",
       "      <td>0</td>\n",
       "      <td>150</td>\n",
       "      <td>0</td>\n",
       "      <td>2.3</td>\n",
       "      <td>0</td>\n",
       "      <td>0</td>\n",
       "      <td>1</td>\n",
       "      <td>1</td>\n",
       "    </tr>\n",
       "    <tr>\n",
       "      <th>1</th>\n",
       "      <td>37</td>\n",
       "      <td>1</td>\n",
       "      <td>2</td>\n",
       "      <td>130</td>\n",
       "      <td>250</td>\n",
       "      <td>0</td>\n",
       "      <td>1</td>\n",
       "      <td>187</td>\n",
       "      <td>0</td>\n",
       "      <td>3.5</td>\n",
       "      <td>0</td>\n",
       "      <td>0</td>\n",
       "      <td>2</td>\n",
       "      <td>1</td>\n",
       "    </tr>\n",
       "    <tr>\n",
       "      <th>2</th>\n",
       "      <td>41</td>\n",
       "      <td>0</td>\n",
       "      <td>1</td>\n",
       "      <td>130</td>\n",
       "      <td>204</td>\n",
       "      <td>0</td>\n",
       "      <td>0</td>\n",
       "      <td>172</td>\n",
       "      <td>0</td>\n",
       "      <td>1.4</td>\n",
       "      <td>2</td>\n",
       "      <td>0</td>\n",
       "      <td>2</td>\n",
       "      <td>1</td>\n",
       "    </tr>\n",
       "    <tr>\n",
       "      <th>3</th>\n",
       "      <td>56</td>\n",
       "      <td>1</td>\n",
       "      <td>1</td>\n",
       "      <td>120</td>\n",
       "      <td>236</td>\n",
       "      <td>0</td>\n",
       "      <td>1</td>\n",
       "      <td>178</td>\n",
       "      <td>0</td>\n",
       "      <td>0.8</td>\n",
       "      <td>2</td>\n",
       "      <td>0</td>\n",
       "      <td>2</td>\n",
       "      <td>1</td>\n",
       "    </tr>\n",
       "    <tr>\n",
       "      <th>4</th>\n",
       "      <td>57</td>\n",
       "      <td>0</td>\n",
       "      <td>0</td>\n",
       "      <td>120</td>\n",
       "      <td>354</td>\n",
       "      <td>0</td>\n",
       "      <td>1</td>\n",
       "      <td>163</td>\n",
       "      <td>1</td>\n",
       "      <td>0.6</td>\n",
       "      <td>2</td>\n",
       "      <td>0</td>\n",
       "      <td>2</td>\n",
       "      <td>1</td>\n",
       "    </tr>\n",
       "  </tbody>\n",
       "</table>\n",
       "</div>"
      ],
      "text/plain": [
       "   age  sex  cp  trestbps  chol  fbs  restecg  thalach  exang  oldpeak  slope  \\\n",
       "0   63    1   3       145   233    1        0      150      0      2.3      0   \n",
       "1   37    1   2       130   250    0        1      187      0      3.5      0   \n",
       "2   41    0   1       130   204    0        0      172      0      1.4      2   \n",
       "3   56    1   1       120   236    0        1      178      0      0.8      2   \n",
       "4   57    0   0       120   354    0        1      163      1      0.6      2   \n",
       "\n",
       "   ca  thal  target  \n",
       "0   0     1       1  \n",
       "1   0     2       1  \n",
       "2   0     2       1  \n",
       "3   0     2       1  \n",
       "4   0     2       1  "
      ]
     },
     "execution_count": 2,
     "metadata": {},
     "output_type": "execute_result"
    }
   ],
   "source": [
    "data = pd.read_csv(\"./heart-disease.csv\")\n",
    "data.head()"
   ]
  },
  {
   "cell_type": "markdown",
   "id": "c0e9e3a6-4579-47c7-baa2-c9b04b3fedd6",
   "metadata": {
    "jp-MarkdownHeadingCollapsed": true
   },
   "source": [
    "### Preliminary Exploration\n",
    "How many rows and columns are there? Check for the missing values and duplicate rows. What are Dtypes of the columns"
   ]
  },
  {
   "cell_type": "code",
   "execution_count": 3,
   "id": "38d81239-68d9-401b-830d-bbe9b67c0443",
   "metadata": {},
   "outputs": [
    {
     "data": {
      "text/plain": [
       "(303, 14)"
      ]
     },
     "execution_count": 3,
     "metadata": {},
     "output_type": "execute_result"
    }
   ],
   "source": [
    "data.shape"
   ]
  },
  {
   "cell_type": "markdown",
   "id": "70af223b-f24f-4e91-a9ef-1aea9afe6e81",
   "metadata": {},
   "source": [
    "- the dataset consists of 14 columns and 303 rows."
   ]
  },
  {
   "cell_type": "code",
   "execution_count": 4,
   "id": "c4e4a7b4-03da-477a-8a58-d52a549b717b",
   "metadata": {},
   "outputs": [
    {
     "data": {
      "text/plain": [
       "age         0\n",
       "sex         0\n",
       "cp          0\n",
       "trestbps    0\n",
       "chol        0\n",
       "fbs         0\n",
       "restecg     0\n",
       "thalach     0\n",
       "exang       0\n",
       "oldpeak     0\n",
       "slope       0\n",
       "ca          0\n",
       "thal        0\n",
       "target      0\n",
       "dtype: int64"
      ]
     },
     "execution_count": 4,
     "metadata": {},
     "output_type": "execute_result"
    }
   ],
   "source": [
    "# Missing value\n",
    "data.isna().sum()"
   ]
  },
  {
   "cell_type": "code",
   "execution_count": 5,
   "id": "ce2179bd-b07c-4a1c-9b4f-bd7252d42b56",
   "metadata": {},
   "outputs": [
    {
     "data": {
      "text/html": [
       "<div>\n",
       "<style scoped>\n",
       "    .dataframe tbody tr th:only-of-type {\n",
       "        vertical-align: middle;\n",
       "    }\n",
       "\n",
       "    .dataframe tbody tr th {\n",
       "        vertical-align: top;\n",
       "    }\n",
       "\n",
       "    .dataframe thead th {\n",
       "        text-align: right;\n",
       "    }\n",
       "</style>\n",
       "<table border=\"1\" class=\"dataframe\">\n",
       "  <thead>\n",
       "    <tr style=\"text-align: right;\">\n",
       "      <th></th>\n",
       "      <th>age</th>\n",
       "      <th>sex</th>\n",
       "      <th>cp</th>\n",
       "      <th>trestbps</th>\n",
       "      <th>chol</th>\n",
       "      <th>fbs</th>\n",
       "      <th>restecg</th>\n",
       "      <th>thalach</th>\n",
       "      <th>exang</th>\n",
       "      <th>oldpeak</th>\n",
       "      <th>slope</th>\n",
       "      <th>ca</th>\n",
       "      <th>thal</th>\n",
       "      <th>target</th>\n",
       "    </tr>\n",
       "  </thead>\n",
       "  <tbody>\n",
       "    <tr>\n",
       "      <th>164</th>\n",
       "      <td>38</td>\n",
       "      <td>1</td>\n",
       "      <td>2</td>\n",
       "      <td>138</td>\n",
       "      <td>175</td>\n",
       "      <td>0</td>\n",
       "      <td>1</td>\n",
       "      <td>173</td>\n",
       "      <td>0</td>\n",
       "      <td>0.0</td>\n",
       "      <td>2</td>\n",
       "      <td>4</td>\n",
       "      <td>2</td>\n",
       "      <td>1</td>\n",
       "    </tr>\n",
       "  </tbody>\n",
       "</table>\n",
       "</div>"
      ],
      "text/plain": [
       "     age  sex  cp  trestbps  chol  fbs  restecg  thalach  exang  oldpeak  \\\n",
       "164   38    1   2       138   175    0        1      173      0      0.0   \n",
       "\n",
       "     slope  ca  thal  target  \n",
       "164      2   4     2       1  "
      ]
     },
     "execution_count": 5,
     "metadata": {},
     "output_type": "execute_result"
    }
   ],
   "source": [
    "#duplicate values\n",
    "data[data.duplicated()]"
   ]
  },
  {
   "cell_type": "code",
   "execution_count": 6,
   "id": "7e7aabd9-a297-4857-ac66-29c762793de1",
   "metadata": {},
   "outputs": [],
   "source": [
    "data.drop_duplicates(inplace=True)"
   ]
  },
  {
   "cell_type": "code",
   "execution_count": 7,
   "id": "40755e54-a1f7-4caa-9a1d-c0723a0d4db7",
   "metadata": {},
   "outputs": [
    {
     "data": {
      "text/plain": [
       "target\n",
       "1    164\n",
       "0    138\n",
       "Name: count, dtype: int64"
      ]
     },
     "execution_count": 7,
     "metadata": {},
     "output_type": "execute_result"
    }
   ],
   "source": [
    "#checking the class balance of the target variable\n",
    "data[\"target\"].value_counts()"
   ]
  },
  {
   "cell_type": "markdown",
   "id": "95511a20-e47e-4d92-81b4-dfb8441338ae",
   "metadata": {
    "jp-MarkdownHeadingCollapsed": true
   },
   "source": [
    "### Descriptive Statistics of a numeric field\n"
   ]
  },
  {
   "cell_type": "code",
   "execution_count": 8,
   "id": "c28d656c-8287-43eb-a0c8-a0c3017a656c",
   "metadata": {},
   "outputs": [
    {
     "data": {
      "text/html": [
       "<div>\n",
       "<style scoped>\n",
       "    .dataframe tbody tr th:only-of-type {\n",
       "        vertical-align: middle;\n",
       "    }\n",
       "\n",
       "    .dataframe tbody tr th {\n",
       "        vertical-align: top;\n",
       "    }\n",
       "\n",
       "    .dataframe thead th {\n",
       "        text-align: right;\n",
       "    }\n",
       "</style>\n",
       "<table border=\"1\" class=\"dataframe\">\n",
       "  <thead>\n",
       "    <tr style=\"text-align: right;\">\n",
       "      <th></th>\n",
       "      <th>age</th>\n",
       "      <th>trestbps</th>\n",
       "      <th>chol</th>\n",
       "      <th>thalach</th>\n",
       "      <th>oldpeak</th>\n",
       "    </tr>\n",
       "  </thead>\n",
       "  <tbody>\n",
       "    <tr>\n",
       "      <th>count</th>\n",
       "      <td>302.00000</td>\n",
       "      <td>302.000000</td>\n",
       "      <td>302.000000</td>\n",
       "      <td>302.000000</td>\n",
       "      <td>302.000000</td>\n",
       "    </tr>\n",
       "    <tr>\n",
       "      <th>mean</th>\n",
       "      <td>54.42053</td>\n",
       "      <td>131.602649</td>\n",
       "      <td>246.500000</td>\n",
       "      <td>149.569536</td>\n",
       "      <td>1.043046</td>\n",
       "    </tr>\n",
       "    <tr>\n",
       "      <th>std</th>\n",
       "      <td>9.04797</td>\n",
       "      <td>17.563394</td>\n",
       "      <td>51.753489</td>\n",
       "      <td>22.903527</td>\n",
       "      <td>1.161452</td>\n",
       "    </tr>\n",
       "    <tr>\n",
       "      <th>min</th>\n",
       "      <td>29.00000</td>\n",
       "      <td>94.000000</td>\n",
       "      <td>126.000000</td>\n",
       "      <td>71.000000</td>\n",
       "      <td>0.000000</td>\n",
       "    </tr>\n",
       "    <tr>\n",
       "      <th>25%</th>\n",
       "      <td>48.00000</td>\n",
       "      <td>120.000000</td>\n",
       "      <td>211.000000</td>\n",
       "      <td>133.250000</td>\n",
       "      <td>0.000000</td>\n",
       "    </tr>\n",
       "    <tr>\n",
       "      <th>50%</th>\n",
       "      <td>55.50000</td>\n",
       "      <td>130.000000</td>\n",
       "      <td>240.500000</td>\n",
       "      <td>152.500000</td>\n",
       "      <td>0.800000</td>\n",
       "    </tr>\n",
       "    <tr>\n",
       "      <th>75%</th>\n",
       "      <td>61.00000</td>\n",
       "      <td>140.000000</td>\n",
       "      <td>274.750000</td>\n",
       "      <td>166.000000</td>\n",
       "      <td>1.600000</td>\n",
       "    </tr>\n",
       "    <tr>\n",
       "      <th>max</th>\n",
       "      <td>77.00000</td>\n",
       "      <td>200.000000</td>\n",
       "      <td>564.000000</td>\n",
       "      <td>202.000000</td>\n",
       "      <td>6.200000</td>\n",
       "    </tr>\n",
       "  </tbody>\n",
       "</table>\n",
       "</div>"
      ],
      "text/plain": [
       "             age    trestbps        chol     thalach     oldpeak\n",
       "count  302.00000  302.000000  302.000000  302.000000  302.000000\n",
       "mean    54.42053  131.602649  246.500000  149.569536    1.043046\n",
       "std      9.04797   17.563394   51.753489   22.903527    1.161452\n",
       "min     29.00000   94.000000  126.000000   71.000000    0.000000\n",
       "25%     48.00000  120.000000  211.000000  133.250000    0.000000\n",
       "50%     55.50000  130.000000  240.500000  152.500000    0.800000\n",
       "75%     61.00000  140.000000  274.750000  166.000000    1.600000\n",
       "max     77.00000  200.000000  564.000000  202.000000    6.200000"
      ]
     },
     "execution_count": 8,
     "metadata": {},
     "output_type": "execute_result"
    }
   ],
   "source": [
    "num_features = [\"age\", \"trestbps\", \"chol\", \"thalach\", \"oldpeak\"]\n",
    "data[num_features].describe()"
   ]
  },
  {
   "cell_type": "code",
   "execution_count": 9,
   "id": "28d9422b-aa33-495d-858e-d88903d7609c",
   "metadata": {},
   "outputs": [
    {
     "data": {
      "text/html": [
       "<div>\n",
       "<style scoped>\n",
       "    .dataframe tbody tr th:only-of-type {\n",
       "        vertical-align: middle;\n",
       "    }\n",
       "\n",
       "    .dataframe tbody tr th {\n",
       "        vertical-align: top;\n",
       "    }\n",
       "\n",
       "    .dataframe thead th {\n",
       "        text-align: right;\n",
       "    }\n",
       "</style>\n",
       "<table border=\"1\" class=\"dataframe\">\n",
       "  <thead>\n",
       "    <tr style=\"text-align: right;\">\n",
       "      <th></th>\n",
       "      <th>age</th>\n",
       "      <th>trestbps</th>\n",
       "      <th>chol</th>\n",
       "      <th>thalach</th>\n",
       "      <th>oldpeak</th>\n",
       "    </tr>\n",
       "  </thead>\n",
       "  <tbody>\n",
       "    <tr>\n",
       "      <th>count</th>\n",
       "      <td>164.000000</td>\n",
       "      <td>164.000000</td>\n",
       "      <td>164.000000</td>\n",
       "      <td>164.000000</td>\n",
       "      <td>164.000000</td>\n",
       "    </tr>\n",
       "    <tr>\n",
       "      <th>mean</th>\n",
       "      <td>52.585366</td>\n",
       "      <td>129.250000</td>\n",
       "      <td>242.640244</td>\n",
       "      <td>158.378049</td>\n",
       "      <td>0.586585</td>\n",
       "    </tr>\n",
       "    <tr>\n",
       "      <th>std</th>\n",
       "      <td>9.511957</td>\n",
       "      <td>16.204739</td>\n",
       "      <td>53.456580</td>\n",
       "      <td>19.199080</td>\n",
       "      <td>0.781734</td>\n",
       "    </tr>\n",
       "    <tr>\n",
       "      <th>min</th>\n",
       "      <td>29.000000</td>\n",
       "      <td>94.000000</td>\n",
       "      <td>126.000000</td>\n",
       "      <td>96.000000</td>\n",
       "      <td>0.000000</td>\n",
       "    </tr>\n",
       "    <tr>\n",
       "      <th>25%</th>\n",
       "      <td>44.750000</td>\n",
       "      <td>120.000000</td>\n",
       "      <td>208.750000</td>\n",
       "      <td>148.750000</td>\n",
       "      <td>0.000000</td>\n",
       "    </tr>\n",
       "    <tr>\n",
       "      <th>50%</th>\n",
       "      <td>52.000000</td>\n",
       "      <td>130.000000</td>\n",
       "      <td>234.500000</td>\n",
       "      <td>161.000000</td>\n",
       "      <td>0.200000</td>\n",
       "    </tr>\n",
       "    <tr>\n",
       "      <th>75%</th>\n",
       "      <td>59.000000</td>\n",
       "      <td>140.000000</td>\n",
       "      <td>267.250000</td>\n",
       "      <td>172.000000</td>\n",
       "      <td>1.025000</td>\n",
       "    </tr>\n",
       "    <tr>\n",
       "      <th>max</th>\n",
       "      <td>76.000000</td>\n",
       "      <td>180.000000</td>\n",
       "      <td>564.000000</td>\n",
       "      <td>202.000000</td>\n",
       "      <td>4.200000</td>\n",
       "    </tr>\n",
       "  </tbody>\n",
       "</table>\n",
       "</div>"
      ],
      "text/plain": [
       "              age    trestbps        chol     thalach     oldpeak\n",
       "count  164.000000  164.000000  164.000000  164.000000  164.000000\n",
       "mean    52.585366  129.250000  242.640244  158.378049    0.586585\n",
       "std      9.511957   16.204739   53.456580   19.199080    0.781734\n",
       "min     29.000000   94.000000  126.000000   96.000000    0.000000\n",
       "25%     44.750000  120.000000  208.750000  148.750000    0.000000\n",
       "50%     52.000000  130.000000  234.500000  161.000000    0.200000\n",
       "75%     59.000000  140.000000  267.250000  172.000000    1.025000\n",
       "max     76.000000  180.000000  564.000000  202.000000    4.200000"
      ]
     },
     "execution_count": 9,
     "metadata": {},
     "output_type": "execute_result"
    }
   ],
   "source": [
    "## Descriptive Stats for heart disease.\n",
    "data[data[\"target\"] == 1][num_features].describe()"
   ]
  },
  {
   "cell_type": "markdown",
   "id": "a9e914da-4c66-493b-9939-13aaadf3c022",
   "metadata": {},
   "source": [
    "- The average `age` of having a heart disease is around 53 years only.\n",
    "- Patients having heart disease at the lowest `age` of 29. \n",
    "- 75% of patients who have a disease have `chol` greater than 200, which is considered to be borderline risk.\n",
    "- 50% of patients having the disease have a `Blood pressure (trestbps)` of 130, which is Stage 1 Risk\n",
    "- The max `Blood pressure` of the patient is 180 (stage 3 risk). However, that's not the max in the whole data. There are some with 200 with not have heart disease. "
   ]
  },
  {
   "cell_type": "markdown",
   "id": "1eae8e7f-bb66-49ce-baef-78a277d4e5c9",
   "metadata": {
    "jp-MarkdownHeadingCollapsed": true
   },
   "source": [
    "### Young Adult have heart disease; age < 40\n",
    "pull out the patients with age < then 40 and has the heart disease."
   ]
  },
  {
   "cell_type": "code",
   "execution_count": 10,
   "id": "3b7828c7-6c8d-4810-9586-c8bf5d6b6afd",
   "metadata": {},
   "outputs": [
    {
     "data": {
      "text/html": [
       "<div>\n",
       "<style scoped>\n",
       "    .dataframe tbody tr th:only-of-type {\n",
       "        vertical-align: middle;\n",
       "    }\n",
       "\n",
       "    .dataframe tbody tr th {\n",
       "        vertical-align: top;\n",
       "    }\n",
       "\n",
       "    .dataframe thead th {\n",
       "        text-align: right;\n",
       "    }\n",
       "</style>\n",
       "<table border=\"1\" class=\"dataframe\">\n",
       "  <thead>\n",
       "    <tr style=\"text-align: right;\">\n",
       "      <th></th>\n",
       "      <th>age</th>\n",
       "      <th>sex</th>\n",
       "      <th>cp</th>\n",
       "      <th>trestbps</th>\n",
       "      <th>chol</th>\n",
       "      <th>fbs</th>\n",
       "      <th>restecg</th>\n",
       "      <th>thalach</th>\n",
       "      <th>exang</th>\n",
       "      <th>oldpeak</th>\n",
       "      <th>slope</th>\n",
       "      <th>ca</th>\n",
       "      <th>thal</th>\n",
       "      <th>target</th>\n",
       "    </tr>\n",
       "  </thead>\n",
       "  <tbody>\n",
       "    <tr>\n",
       "      <th>1</th>\n",
       "      <td>37</td>\n",
       "      <td>1</td>\n",
       "      <td>2</td>\n",
       "      <td>130</td>\n",
       "      <td>250</td>\n",
       "      <td>0</td>\n",
       "      <td>1</td>\n",
       "      <td>187</td>\n",
       "      <td>0</td>\n",
       "      <td>3.5</td>\n",
       "      <td>0</td>\n",
       "      <td>0</td>\n",
       "      <td>2</td>\n",
       "      <td>1</td>\n",
       "    </tr>\n",
       "    <tr>\n",
       "      <th>44</th>\n",
       "      <td>39</td>\n",
       "      <td>1</td>\n",
       "      <td>2</td>\n",
       "      <td>140</td>\n",
       "      <td>321</td>\n",
       "      <td>0</td>\n",
       "      <td>0</td>\n",
       "      <td>182</td>\n",
       "      <td>0</td>\n",
       "      <td>0.0</td>\n",
       "      <td>2</td>\n",
       "      <td>0</td>\n",
       "      <td>2</td>\n",
       "      <td>1</td>\n",
       "    </tr>\n",
       "    <tr>\n",
       "      <th>58</th>\n",
       "      <td>34</td>\n",
       "      <td>1</td>\n",
       "      <td>3</td>\n",
       "      <td>118</td>\n",
       "      <td>182</td>\n",
       "      <td>0</td>\n",
       "      <td>0</td>\n",
       "      <td>174</td>\n",
       "      <td>0</td>\n",
       "      <td>0.0</td>\n",
       "      <td>2</td>\n",
       "      <td>0</td>\n",
       "      <td>2</td>\n",
       "      <td>1</td>\n",
       "    </tr>\n",
       "    <tr>\n",
       "      <th>65</th>\n",
       "      <td>35</td>\n",
       "      <td>0</td>\n",
       "      <td>0</td>\n",
       "      <td>138</td>\n",
       "      <td>183</td>\n",
       "      <td>0</td>\n",
       "      <td>1</td>\n",
       "      <td>182</td>\n",
       "      <td>0</td>\n",
       "      <td>1.4</td>\n",
       "      <td>2</td>\n",
       "      <td>0</td>\n",
       "      <td>2</td>\n",
       "      <td>1</td>\n",
       "    </tr>\n",
       "    <tr>\n",
       "      <th>72</th>\n",
       "      <td>29</td>\n",
       "      <td>1</td>\n",
       "      <td>1</td>\n",
       "      <td>130</td>\n",
       "      <td>204</td>\n",
       "      <td>0</td>\n",
       "      <td>0</td>\n",
       "      <td>202</td>\n",
       "      <td>0</td>\n",
       "      <td>0.0</td>\n",
       "      <td>2</td>\n",
       "      <td>0</td>\n",
       "      <td>2</td>\n",
       "      <td>1</td>\n",
       "    </tr>\n",
       "    <tr>\n",
       "      <th>115</th>\n",
       "      <td>37</td>\n",
       "      <td>0</td>\n",
       "      <td>2</td>\n",
       "      <td>120</td>\n",
       "      <td>215</td>\n",
       "      <td>0</td>\n",
       "      <td>1</td>\n",
       "      <td>170</td>\n",
       "      <td>0</td>\n",
       "      <td>0.0</td>\n",
       "      <td>2</td>\n",
       "      <td>0</td>\n",
       "      <td>2</td>\n",
       "      <td>1</td>\n",
       "    </tr>\n",
       "    <tr>\n",
       "      <th>124</th>\n",
       "      <td>39</td>\n",
       "      <td>0</td>\n",
       "      <td>2</td>\n",
       "      <td>94</td>\n",
       "      <td>199</td>\n",
       "      <td>0</td>\n",
       "      <td>1</td>\n",
       "      <td>179</td>\n",
       "      <td>0</td>\n",
       "      <td>0.0</td>\n",
       "      <td>2</td>\n",
       "      <td>0</td>\n",
       "      <td>2</td>\n",
       "      <td>1</td>\n",
       "    </tr>\n",
       "    <tr>\n",
       "      <th>125</th>\n",
       "      <td>34</td>\n",
       "      <td>0</td>\n",
       "      <td>1</td>\n",
       "      <td>118</td>\n",
       "      <td>210</td>\n",
       "      <td>0</td>\n",
       "      <td>1</td>\n",
       "      <td>192</td>\n",
       "      <td>0</td>\n",
       "      <td>0.7</td>\n",
       "      <td>2</td>\n",
       "      <td>0</td>\n",
       "      <td>2</td>\n",
       "      <td>1</td>\n",
       "    </tr>\n",
       "    <tr>\n",
       "      <th>154</th>\n",
       "      <td>39</td>\n",
       "      <td>0</td>\n",
       "      <td>2</td>\n",
       "      <td>138</td>\n",
       "      <td>220</td>\n",
       "      <td>0</td>\n",
       "      <td>1</td>\n",
       "      <td>152</td>\n",
       "      <td>0</td>\n",
       "      <td>0.0</td>\n",
       "      <td>1</td>\n",
       "      <td>0</td>\n",
       "      <td>2</td>\n",
       "      <td>1</td>\n",
       "    </tr>\n",
       "    <tr>\n",
       "      <th>157</th>\n",
       "      <td>35</td>\n",
       "      <td>1</td>\n",
       "      <td>1</td>\n",
       "      <td>122</td>\n",
       "      <td>192</td>\n",
       "      <td>0</td>\n",
       "      <td>1</td>\n",
       "      <td>174</td>\n",
       "      <td>0</td>\n",
       "      <td>0.0</td>\n",
       "      <td>2</td>\n",
       "      <td>0</td>\n",
       "      <td>2</td>\n",
       "      <td>1</td>\n",
       "    </tr>\n",
       "    <tr>\n",
       "      <th>163</th>\n",
       "      <td>38</td>\n",
       "      <td>1</td>\n",
       "      <td>2</td>\n",
       "      <td>138</td>\n",
       "      <td>175</td>\n",
       "      <td>0</td>\n",
       "      <td>1</td>\n",
       "      <td>173</td>\n",
       "      <td>0</td>\n",
       "      <td>0.0</td>\n",
       "      <td>2</td>\n",
       "      <td>4</td>\n",
       "      <td>2</td>\n",
       "      <td>1</td>\n",
       "    </tr>\n",
       "  </tbody>\n",
       "</table>\n",
       "</div>"
      ],
      "text/plain": [
       "     age  sex  cp  trestbps  chol  fbs  restecg  thalach  exang  oldpeak  \\\n",
       "1     37    1   2       130   250    0        1      187      0      3.5   \n",
       "44    39    1   2       140   321    0        0      182      0      0.0   \n",
       "58    34    1   3       118   182    0        0      174      0      0.0   \n",
       "65    35    0   0       138   183    0        1      182      0      1.4   \n",
       "72    29    1   1       130   204    0        0      202      0      0.0   \n",
       "115   37    0   2       120   215    0        1      170      0      0.0   \n",
       "124   39    0   2        94   199    0        1      179      0      0.0   \n",
       "125   34    0   1       118   210    0        1      192      0      0.7   \n",
       "154   39    0   2       138   220    0        1      152      0      0.0   \n",
       "157   35    1   1       122   192    0        1      174      0      0.0   \n",
       "163   38    1   2       138   175    0        1      173      0      0.0   \n",
       "\n",
       "     slope  ca  thal  target  \n",
       "1        0   0     2       1  \n",
       "44       2   0     2       1  \n",
       "58       2   0     2       1  \n",
       "65       2   0     2       1  \n",
       "72       2   0     2       1  \n",
       "115      2   0     2       1  \n",
       "124      2   0     2       1  \n",
       "125      2   0     2       1  \n",
       "154      1   0     2       1  \n",
       "157      2   0     2       1  \n",
       "163      2   4     2       1  "
      ]
     },
     "execution_count": 10,
     "metadata": {},
     "output_type": "execute_result"
    }
   ],
   "source": [
    "data.query('target == 1 and age < 40')"
   ]
  },
  {
   "cell_type": "markdown",
   "id": "a473e156-8937-4116-a1f4-c8eb38bb50ab",
   "metadata": {},
   "source": [
    "- The person with the lowest age has a cholesterol of > 200, which is concerning. and slop 2, which is a sign of an unhealthy heart.\n",
    "- In young Adult patients, either chol is high, or slop is 2, which leads to heart disease. We can verify later all the patients.\n",
    "- None of them had pain in the chest while exercising. (exang) and their stress level were normal too (thal)"
   ]
  },
  {
   "cell_type": "markdown",
   "id": "1129456a-e52b-4867-b148-0fa39a0fbf11",
   "metadata": {
    "jp-MarkdownHeadingCollapsed": true
   },
   "source": [
    "### Number of Patients with heart disease by gender?\n",
    "How many males and females have the heart disease?"
   ]
  },
  {
   "cell_type": "code",
   "execution_count": 11,
   "id": "c7c793c5-f880-4c74-bd63-93cf6e3ff907",
   "metadata": {},
   "outputs": [
    {
     "data": {
      "text/plain": [
       "sex\n",
       "1    206\n",
       "0     96\n",
       "Name: count, dtype: int64"
      ]
     },
     "execution_count": 11,
     "metadata": {},
     "output_type": "execute_result"
    }
   ],
   "source": [
    "data[\"sex\"].value_counts()"
   ]
  },
  {
   "cell_type": "code",
   "execution_count": 12,
   "id": "eb79a031-b05e-40b2-93f6-a781b58ba0bb",
   "metadata": {},
   "outputs": [
    {
     "data": {
      "text/html": [
       "<div>\n",
       "<style scoped>\n",
       "    .dataframe tbody tr th:only-of-type {\n",
       "        vertical-align: middle;\n",
       "    }\n",
       "\n",
       "    .dataframe tbody tr th {\n",
       "        vertical-align: top;\n",
       "    }\n",
       "\n",
       "    .dataframe thead th {\n",
       "        text-align: right;\n",
       "    }\n",
       "</style>\n",
       "<table border=\"1\" class=\"dataframe\">\n",
       "  <thead>\n",
       "    <tr style=\"text-align: right;\">\n",
       "      <th></th>\n",
       "      <th>sex</th>\n",
       "      <th>target</th>\n",
       "      <th>size</th>\n",
       "    </tr>\n",
       "  </thead>\n",
       "  <tbody>\n",
       "    <tr>\n",
       "      <th>0</th>\n",
       "      <td>0</td>\n",
       "      <td>0</td>\n",
       "      <td>24</td>\n",
       "    </tr>\n",
       "    <tr>\n",
       "      <th>1</th>\n",
       "      <td>0</td>\n",
       "      <td>1</td>\n",
       "      <td>72</td>\n",
       "    </tr>\n",
       "    <tr>\n",
       "      <th>2</th>\n",
       "      <td>1</td>\n",
       "      <td>0</td>\n",
       "      <td>114</td>\n",
       "    </tr>\n",
       "    <tr>\n",
       "      <th>3</th>\n",
       "      <td>1</td>\n",
       "      <td>1</td>\n",
       "      <td>92</td>\n",
       "    </tr>\n",
       "  </tbody>\n",
       "</table>\n",
       "</div>"
      ],
      "text/plain": [
       "   sex  target  size\n",
       "0    0       0    24\n",
       "1    0       1    72\n",
       "2    1       0   114\n",
       "3    1       1    92"
      ]
     },
     "execution_count": 12,
     "metadata": {},
     "output_type": "execute_result"
    }
   ],
   "source": [
    "count_gender = data.groupby([\"sex\", \"target\"], as_index=False).size()\n",
    "count_gender\n",
    "#we can use crosstab too"
   ]
  },
  {
   "cell_type": "code",
   "execution_count": 13,
   "id": "35e4b6e5-1025-4510-b30d-ff350e21cba6",
   "metadata": {},
   "outputs": [],
   "source": [
    "count_gender['sex'] = count_gender['sex'].map({1 : 'Male', 0 : 'Female'})"
   ]
  },
  {
   "cell_type": "code",
   "execution_count": 14,
   "id": "cd567ce1-d5e8-4171-b617-0a9c7fb89af4",
   "metadata": {},
   "outputs": [
    {
     "data": {
      "image/png": "[encoded data removed]",
      "text/plain": [
       "<Figure size 640x480 with 1 Axes>"
      ]
     },
     "metadata": {},
     "output_type": "display_data"
    }
   ],
   "source": [
    "ax = sns.barplot(count_gender, x=\"target\", y=\"size\", hue=\"sex\", palette=[\"Salmon\", \"steelblue\"])\n",
    "ax.bar_label(ax.containers[1], fontsize=10);\n",
    "ax.bar_label(ax.containers[0], fontsize=10);\n",
    "ax.set_title(\"Number of paitient with or without heart disease by gender\")\n",
    "\n",
    "plt.show()"
   ]
  },
  {
   "cell_type": "markdown",
   "id": "280ce23c-eb02-4de2-8d8c-c876bf4c53ff",
   "metadata": {},
   "source": [
    "- Out of 96 total females, 72 have heart disease; more than three-quarters of total females\n",
    "- Out of the total males, almost 45% suffer from heart disease.\n",
    "- In comparison, 7.8 out of 10 females and 4.5 out of 10 males have heart disease."
   ]
  },
  {
   "cell_type": "code",
   "execution_count": 15,
   "id": "ce67b8bc-3f7c-4231-8278-057f4e362b0d",
   "metadata": {},
   "outputs": [
    {
     "data": {
      "text/plain": [
       "thal\n",
       "2    165\n",
       "3    117\n",
       "1     18\n",
       "0      2\n",
       "Name: count, dtype: int64"
      ]
     },
     "execution_count": 15,
     "metadata": {},
     "output_type": "execute_result"
    }
   ],
   "source": [
    "data[\"thal\"].value_counts()"
   ]
  },
  {
   "cell_type": "markdown",
   "id": "46655963-6154-47ea-ae47-5878c191bbd4",
   "metadata": {
    "jp-MarkdownHeadingCollapsed": true
   },
   "source": [
    "### Chest pain per the heart disease frequency.\n",
    "What type of pain do the patients have with most heart disease? "
   ]
  },
  {
   "cell_type": "code",
   "execution_count": 20,
   "id": "e9bd4ae7-983d-43df-ac51-5859e001c066",
   "metadata": {},
   "outputs": [
    {
     "data": {
      "text/html": [
       "<div>\n",
       "<style scoped>\n",
       "    .dataframe tbody tr th:only-of-type {\n",
       "        vertical-align: middle;\n",
       "    }\n",
       "\n",
       "    .dataframe tbody tr th {\n",
       "        vertical-align: top;\n",
       "    }\n",
       "\n",
       "    .dataframe thead th {\n",
       "        text-align: right;\n",
       "    }\n",
       "</style>\n",
       "<table border=\"1\" class=\"dataframe\">\n",
       "  <thead>\n",
       "    <tr style=\"text-align: right;\">\n",
       "      <th>target</th>\n",
       "      <th>0</th>\n",
       "      <th>1</th>\n",
       "    </tr>\n",
       "    <tr>\n",
       "      <th>cp</th>\n",
       "      <th></th>\n",
       "      <th></th>\n",
       "    </tr>\n",
       "  </thead>\n",
       "  <tbody>\n",
       "    <tr>\n",
       "      <th>0</th>\n",
       "      <td>104</td>\n",
       "      <td>39</td>\n",
       "    </tr>\n",
       "    <tr>\n",
       "      <th>1</th>\n",
       "      <td>9</td>\n",
       "      <td>41</td>\n",
       "    </tr>\n",
       "    <tr>\n",
       "      <th>2</th>\n",
       "      <td>18</td>\n",
       "      <td>68</td>\n",
       "    </tr>\n",
       "    <tr>\n",
       "      <th>3</th>\n",
       "      <td>7</td>\n",
       "      <td>16</td>\n",
       "    </tr>\n",
       "  </tbody>\n",
       "</table>\n",
       "</div>"
      ],
      "text/plain": [
       "target    0   1\n",
       "cp             \n",
       "0       104  39\n",
       "1         9  41\n",
       "2        18  68\n",
       "3         7  16"
      ]
     },
     "execution_count": 20,
     "metadata": {},
     "output_type": "execute_result"
    }
   ],
   "source": [
    "chest_pain_target = pd.crosstab(data[\"cp\"], data[\"target\"])\n",
    "chest_pain_target"
   ]
  },
  {
   "cell_type": "markdown",
   "id": "4d748a8d-a748-4a92-b007-a539e02238f3",
   "metadata": {},
   "source": [
    "meaning of Chest pain values:-\n",
    "- 0: Typical Angina: chest pain related to decreased blood supply to the heart.\n",
    "- 1: Atypical Angina: chest pain may or may not relate to the heart; pain that doesn't fit the usual description of pain.\n",
    "- 2: Non-anginal pain: feels like pain from the heart, but it does not originate from the heart (non-heart related)\n",
    "- 3: Asymptomatic: chest pain not showing signs of disease."
   ]
  },
  {
   "cell_type": "code",
   "execution_count": 42,
   "id": "173704c8-fb8e-4341-a723-e52b27872096",
   "metadata": {},
   "outputs": [
    {
     "data": {
      "image/png": "[encoded data removed]",
      "text/plain": [
       "<Figure size 1000x600 with 1 Axes>"
      ]
     },
     "metadata": {},
     "output_type": "display_data"
    }
   ],
   "source": [
    "#plot a bar chart\n",
    "chest_pain_target.plot(kind=\"bar\", figsize=(10,6), color=[\"palegreen\", \"salmon\"])\n",
    "plt.legend([\"False\", \"True\"], title=\"Heart Disease?\")\n",
    "\n",
    "plt.title(\"Number of Patients by various type of chest pain\")\n",
    "plt.ylabel(\"Number of paitients\")\n",
    "\n",
    "plt.xlabel(\"Chest pain\")\n",
    "plt.xticks(ticks=[0, 1, 2, 3], \n",
    "           labels=[\"Typical Angina\", \"Atypical Angina\", \"Non-anginal pain\", \"Asymptomatic\"], \n",
    "           rotation=\"horizontal\")\n",
    "plt.show()"
   ]
  },
  {
   "cell_type": "markdown",
   "id": "c2a1c384-7caa-41b6-a089-0faac42fb9ae",
   "metadata": {},
   "source": [
    "- Intriguing, 60% of ppl with pain because of a decrease in the blood supply in the heart do not have heart disease.\n",
    "- Patients with all other types of pain have a higher chance of having heart disease.\n",
    "- Surprisingly, Non-anginal pain is not related to the heart; it has the highest number of heart disease patients. "
   ]
  },
  {
   "cell_type": "markdown",
   "id": "a04b1801-b4d2-4d3f-9aff-e8ee21cd983b",
   "metadata": {
    "jp-MarkdownHeadingCollapsed": true
   },
   "source": [
    "### Exang with target variable"
   ]
  },
  {
   "cell_type": "code",
   "execution_count": 45,
   "id": "c7f3472c-1aa3-4cfa-b035-e69de70a67d5",
   "metadata": {
    "jp-MarkdownHeadingCollapsed": true
   },
   "outputs": [
    {
     "data": {
      "text/html": [
       "<div>\n",
       "<style scoped>\n",
       "    .dataframe tbody tr th:only-of-type {\n",
       "        vertical-align: middle;\n",
       "    }\n",
       "\n",
       "    .dataframe tbody tr th {\n",
       "        vertical-align: top;\n",
       "    }\n",
       "\n",
       "    .dataframe thead th {\n",
       "        text-align: right;\n",
       "    }\n",
       "</style>\n",
       "<table border=\"1\" class=\"dataframe\">\n",
       "  <thead>\n",
       "    <tr style=\"text-align: right;\">\n",
       "      <th>target</th>\n",
       "      <th>0</th>\n",
       "      <th>1</th>\n",
       "    </tr>\n",
       "    <tr>\n",
       "      <th>exang</th>\n",
       "      <th></th>\n",
       "      <th></th>\n",
       "    </tr>\n",
       "  </thead>\n",
       "  <tbody>\n",
       "    <tr>\n",
       "      <th>0</th>\n",
       "      <td>62</td>\n",
       "      <td>141</td>\n",
       "    </tr>\n",
       "    <tr>\n",
       "      <th>1</th>\n",
       "      <td>76</td>\n",
       "      <td>23</td>\n",
       "    </tr>\n",
       "  </tbody>\n",
       "</table>\n",
       "</div>"
      ],
      "text/plain": [
       "target   0    1\n",
       "exang          \n",
       "0       62  141\n",
       "1       76   23"
      ]
     },
     "execution_count": 45,
     "metadata": {},
     "output_type": "execute_result"
    }
   ],
   "source": [
    "excerise_chest_pain_target = pd.crosstab(data[\"exang\"], data[\"target\"])\n",
    "excerise_chest_pain_target"
   ]
  },
  {
   "cell_type": "code",
   "execution_count": 57,
   "id": "7be9ca5e-217b-4682-8a58-964df2e183bd",
   "metadata": {},
   "outputs": [
    {
     "data": {
      "image/png": "[encoded data removed]",
      "text/plain": [
       "<Figure size 1000x600 with 1 Axes>"
      ]
     },
     "metadata": {},
     "output_type": "display_data"
    }
   ],
   "source": [
    "excerise_chest_pain_target.plot(kind=\"bar\", figsize=(10,6), color=[\"palegreen\", \"salmon\"])\n",
    "\n",
    "plt.xlabel(\"exercise-induced angina\")\n",
    "plt.xticks([0,1], [\"False\",\"True\"], rotation=\"horizontal\")\n",
    "\n",
    "plt.legend([\"False\", \"True\"], title=\"Heart Disease?\")\n",
    "\n",
    "plt.show()"
   ]
  },
  {
   "cell_type": "markdown",
   "id": "6c520fba-7040-415a-92b7-b8c44af66a22",
   "metadata": {},
   "source": [
    "- Out of all patients having heart disease, 85% of People do not have `exang`; which means the highest number of patients don't have problem with chest pain while exercising but suffer from heart problems.\n",
    "- Only 23 ppl, which is 7.5 percent of the total, fall under both categories."
   ]
  },
  {
   "cell_type": "markdown",
   "id": "7ea4a9d4-7731-46ce-a637-e477239369c3",
   "metadata": {},
   "source": [
    "### Maximum heart rate by age having and not having heart disease. "
   ]
  },
  {
   "cell_type": "code",
   "execution_count": 87,
   "id": "fb4ba933-df61-4fff-a8e4-fccdabe98424",
   "metadata": {},
   "outputs": [
    {
     "data": {
      "image/png": "[encoded data removed]",
      "text/plain": [
       "<Figure size 1000x600 with 1 Axes>"
      ]
     },
     "metadata": {},
     "output_type": "display_data"
    }
   ],
   "source": [
    "fig, ax = plt.subplots(figsize=(10,6))\n",
    "\n",
    "ax.scatter(data[data[\"target\"] == 0][\"age\"], data[data[\"target\"] == 0][\"thalach\"], color=\"mediumseagreen\", label=\"no heart disease\")\n",
    "ax.scatter(data[data[\"target\"] == 1][\"age\"],  data[data[\"target\"] == 1][\"thalach\"], color=\"crimson\", label=\"has heart disease\")\n",
    "\n",
    "ax.set(title=\"Maximum heart rate vs age by heart disease\", xlabel=\"Age\", ylabel=\"Maximun heart disease\")\n",
    "\n",
    "plt.show()"
   ]
  },
  {
   "cell_type": "markdown",
   "id": "9b6c36ba-346b-42fa-a294-0d5bcd93ef78",
   "metadata": {},
   "source": [
    "- We can see a decrease in heart disease as the age increases."
   ]
  },
  {
   "cell_type": "code",
   "execution_count": 114,
   "id": "65250579-7883-4d0a-b75f-5ae4852c23a4",
   "metadata": {},
   "outputs": [
    {
     "data": {
      "image/png": "[encoded data removed]",
      "text/plain": [
       "<Figure size 557.75x500 with 1 Axes>"
      ]
     },
     "metadata": {},
     "output_type": "display_data"
    }
   ],
   "source": [
    "#visuilize with \n",
    "with sns.axes_style(\"whitegrid\"):\n",
    "    sns.lmplot(data=data, \n",
    "               y=\"thalach\", \n",
    "               x=\"age\", \n",
    "               lowess=True, \n",
    "               hue=\"target\",\n",
    "               palette=[\"mediumseagreen\", \"crimson\"],\n",
    "               scatter_kws = {'alpha': 0.5})\n",
    "\n",
    "plt.show()"
   ]
  },
  {
   "cell_type": "markdown",
   "id": "00ee3691-649b-428a-ba89-9a7ebad8646f",
   "metadata": {},
   "source": [
    "### Correlation matrix"
   ]
  },
  {
   "cell_type": "code",
   "execution_count": null,
   "id": "0a1b317e-e802-4d11-86e6-02929cc46a15",
   "metadata": {},
   "outputs": [],
   "source": []
  }
 ],
 "metadata": {
  "kernelspec": {
   "display_name": "Python 3 (ipykernel)",
   "language": "python",
   "name": "python3"
  },
  "language_info": {
   "codemirror_mode": {
    "name": "ipython",
    "version": 3
   },
   "file_extension": ".py",
   "mimetype": "text/x-python",
   "name": "python",
   "nbconvert_exporter": "python",
   "pygments_lexer": "ipython3",
   "version": "3.12.7"
  }
 },
 "nbformat": 4,
 "nbformat_minor": 5
}
